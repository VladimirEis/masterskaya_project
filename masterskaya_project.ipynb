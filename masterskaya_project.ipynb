{
 "cells": [
  {
   "cell_type": "markdown",
   "id": "fddfe0ab",
   "metadata": {},
   "source": [
    "<a id='start'></a>\n",
    "# Проект Мастерская №1"
   ]
  },
  {
   "cell_type": "markdown",
   "id": "5fe32720",
   "metadata": {},
   "source": [
    "## Цель проекта\n",
    "Отработать навыки работы с реальными данными.  \n",
    "В качестве примера приведены данные о стартапах, функционировавших с 1980 по 2018 годы.  \n",
    "Необходимо разработать модель машинного обучения при предсказания продолжения работы стартапа.  \n",
    "Провести все необхрдимые работы с исходными датасетами и дать рекомендации создателям стартапов."
   ]
  },
  {
   "cell_type": "markdown",
   "id": "9a164793",
   "metadata": {},
   "source": [
    "### Задачи для 1 части проекта:\n",
    "* [Изучить и подготовить данные](#download)\n",
    "* [Провести предобработку данных](#preprocessing)\n",
    "* [Провести исследователький анализ данных](#research)\n",
    "* [Провести корреляционный анализ данных](#corr)"
   ]
  },
  {
   "cell_type": "markdown",
   "id": "edc7725b",
   "metadata": {},
   "source": [
    "<a id='download'></a>\n",
    "## [Загрузка данных](#start)"
   ]
  },
  {
   "cell_type": "code",
   "execution_count": 1,
   "id": "24f8b39b",
   "metadata": {},
   "outputs": [],
   "source": [
    "import pandas as pd"
   ]
  },
  {
   "cell_type": "code",
   "execution_count": 2,
   "id": "bbda3501",
   "metadata": {},
   "outputs": [],
   "source": [
    "# Задаем необходимые константы\n",
    "RANDOM_STATE = 42"
   ]
  },
  {
   "cell_type": "code",
   "execution_count": 3,
   "id": "5f00158d",
   "metadata": {},
   "outputs": [
    {
     "name": "stdout",
     "output_type": "stream",
     "text": [
      "<class 'pandas.core.frame.DataFrame'>\n",
      "RangeIndex: 13125 entries, 0 to 13124\n",
      "Data columns (total 11 columns):\n",
      " #   Column             Non-Null Count  Dtype  \n",
      "---  ------             --------------  -----  \n",
      " 0   name               13125 non-null  object \n",
      " 1   category_list      12534 non-null  object \n",
      " 2   funding_total_usd  10547 non-null  float64\n",
      " 3   country_code       11743 non-null  object \n",
      " 4   state_code         11430 non-null  object \n",
      " 5   region             11536 non-null  object \n",
      " 6   city               11538 non-null  object \n",
      " 7   funding_rounds     13125 non-null  int64  \n",
      " 8   first_funding_at   13125 non-null  object \n",
      " 9   last_funding_at    13125 non-null  object \n",
      " 10  lifetime           13125 non-null  int64  \n",
      "dtypes: float64(1), int64(2), object(8)\n",
      "memory usage: 1.1+ MB\n"
     ]
    },
    {
     "data": {
      "text/html": [
       "<div>\n",
       "<style scoped>\n",
       "    .dataframe tbody tr th:only-of-type {\n",
       "        vertical-align: middle;\n",
       "    }\n",
       "\n",
       "    .dataframe tbody tr th {\n",
       "        vertical-align: top;\n",
       "    }\n",
       "\n",
       "    .dataframe thead th {\n",
       "        text-align: right;\n",
       "    }\n",
       "</style>\n",
       "<table border=\"1\" class=\"dataframe\">\n",
       "  <thead>\n",
       "    <tr style=\"text-align: right;\">\n",
       "      <th></th>\n",
       "      <th>category_list</th>\n",
       "      <th>funding_total_usd</th>\n",
       "      <th>country_code</th>\n",
       "      <th>state_code</th>\n",
       "      <th>region</th>\n",
       "      <th>city</th>\n",
       "      <th>funding_rounds</th>\n",
       "      <th>first_funding_at</th>\n",
       "      <th>last_funding_at</th>\n",
       "      <th>lifetime</th>\n",
       "    </tr>\n",
       "    <tr>\n",
       "      <th>name</th>\n",
       "      <th></th>\n",
       "      <th></th>\n",
       "      <th></th>\n",
       "      <th></th>\n",
       "      <th></th>\n",
       "      <th></th>\n",
       "      <th></th>\n",
       "      <th></th>\n",
       "      <th></th>\n",
       "      <th></th>\n",
       "    </tr>\n",
       "  </thead>\n",
       "  <tbody>\n",
       "    <tr>\n",
       "      <th>Crystalsol</th>\n",
       "      <td>Clean Technology</td>\n",
       "      <td>2819200.0</td>\n",
       "      <td>NIC</td>\n",
       "      <td>17</td>\n",
       "      <td>NaN</td>\n",
       "      <td>NaN</td>\n",
       "      <td>1</td>\n",
       "      <td>2009-07-01</td>\n",
       "      <td>2009-07-01</td>\n",
       "      <td>3501</td>\n",
       "    </tr>\n",
       "    <tr>\n",
       "      <th>JBI Fish &amp; Wings</th>\n",
       "      <td>Hospitality</td>\n",
       "      <td>NaN</td>\n",
       "      <td>USA</td>\n",
       "      <td>TN</td>\n",
       "      <td>TN - Other</td>\n",
       "      <td>Humboldt</td>\n",
       "      <td>1</td>\n",
       "      <td>2010-07-28</td>\n",
       "      <td>2010-07-28</td>\n",
       "      <td>2717</td>\n",
       "    </tr>\n",
       "    <tr>\n",
       "      <th>COINPLUS</th>\n",
       "      <td>Finance</td>\n",
       "      <td>428257.0</td>\n",
       "      <td>LUX</td>\n",
       "      <td>3</td>\n",
       "      <td>Esch-sur-alzette</td>\n",
       "      <td>Esch-sur-alzette</td>\n",
       "      <td>2</td>\n",
       "      <td>2014-05-15</td>\n",
       "      <td>2014-09-18</td>\n",
       "      <td>1295</td>\n",
       "    </tr>\n",
       "    <tr>\n",
       "      <th>Imagine Communications</th>\n",
       "      <td>Software|Video|Video Streaming</td>\n",
       "      <td>34700000.0</td>\n",
       "      <td>USA</td>\n",
       "      <td>CA</td>\n",
       "      <td>San Diego</td>\n",
       "      <td>San Diego</td>\n",
       "      <td>4</td>\n",
       "      <td>2005-01-01</td>\n",
       "      <td>2010-04-20</td>\n",
       "      <td>4748</td>\n",
       "    </tr>\n",
       "    <tr>\n",
       "      <th>DNA13</th>\n",
       "      <td>Software</td>\n",
       "      <td>4530000.0</td>\n",
       "      <td>CAN</td>\n",
       "      <td>ON</td>\n",
       "      <td>Ottawa</td>\n",
       "      <td>Ottawa</td>\n",
       "      <td>1</td>\n",
       "      <td>2007-05-08</td>\n",
       "      <td>2007-05-08</td>\n",
       "      <td>6209</td>\n",
       "    </tr>\n",
       "  </tbody>\n",
       "</table>\n",
       "</div>"
      ],
      "text/plain": [
       "                                         category_list  funding_total_usd  \\\n",
       "name                                                                        \n",
       "Crystalsol                            Clean Technology          2819200.0   \n",
       "JBI Fish & Wings                           Hospitality                NaN   \n",
       "COINPLUS                                       Finance           428257.0   \n",
       "Imagine Communications  Software|Video|Video Streaming         34700000.0   \n",
       "DNA13                                         Software          4530000.0   \n",
       "\n",
       "                       country_code state_code            region  \\\n",
       "name                                                               \n",
       "Crystalsol                      NIC         17               NaN   \n",
       "JBI Fish & Wings                USA         TN        TN - Other   \n",
       "COINPLUS                        LUX          3  Esch-sur-alzette   \n",
       "Imagine Communications          USA         CA         San Diego   \n",
       "DNA13                           CAN         ON            Ottawa   \n",
       "\n",
       "                                    city  funding_rounds first_funding_at  \\\n",
       "name                                                                        \n",
       "Crystalsol                           NaN               1       2009-07-01   \n",
       "JBI Fish & Wings                Humboldt               1       2010-07-28   \n",
       "COINPLUS                Esch-sur-alzette               2       2014-05-15   \n",
       "Imagine Communications         San Diego               4       2005-01-01   \n",
       "DNA13                             Ottawa               1       2007-05-08   \n",
       "\n",
       "                       last_funding_at  lifetime  \n",
       "name                                              \n",
       "Crystalsol                  2009-07-01      3501  \n",
       "JBI Fish & Wings            2010-07-28      2717  \n",
       "COINPLUS                    2014-09-18      1295  \n",
       "Imagine Communications      2010-04-20      4748  \n",
       "DNA13                       2007-05-08      6209  "
      ]
     },
     "execution_count": 3,
     "metadata": {},
     "output_type": "execute_result"
    }
   ],
   "source": [
    "# Загружаем тренировочную выборку\n",
    "startups_train = pd.read_csv(\n",
    "    'datasets/kaggle_startups_test_28062024.csv'\n",
    ")\n",
    "# Просматриваем первичную информацию о датасете\n",
    "startups_train.info()\n",
    "# Устанавливаем 'name' как колонку-индекс\n",
    "startups_train = (\n",
    "    startups_train.set_index('name')\n",
    ")\n",
    "# Просматриваем первые 5 строк датасета\n",
    "startups_train.head()"
   ]
  },
  {
   "cell_type": "code",
   "execution_count": 4,
   "id": "7b87e32d",
   "metadata": {},
   "outputs": [
    {
     "name": "stdout",
     "output_type": "stream",
     "text": [
      "<class 'pandas.core.frame.DataFrame'>\n",
      "RangeIndex: 13125 entries, 0 to 13124\n",
      "Data columns (total 11 columns):\n",
      " #   Column             Non-Null Count  Dtype  \n",
      "---  ------             --------------  -----  \n",
      " 0   name               13125 non-null  object \n",
      " 1   category_list      12534 non-null  object \n",
      " 2   funding_total_usd  10547 non-null  float64\n",
      " 3   country_code       11743 non-null  object \n",
      " 4   state_code         11430 non-null  object \n",
      " 5   region             11536 non-null  object \n",
      " 6   city               11538 non-null  object \n",
      " 7   funding_rounds     13125 non-null  int64  \n",
      " 8   first_funding_at   13125 non-null  object \n",
      " 9   last_funding_at    13125 non-null  object \n",
      " 10  lifetime           13125 non-null  int64  \n",
      "dtypes: float64(1), int64(2), object(8)\n",
      "memory usage: 1.1+ MB\n"
     ]
    },
    {
     "data": {
      "text/html": [
       "<div>\n",
       "<style scoped>\n",
       "    .dataframe tbody tr th:only-of-type {\n",
       "        vertical-align: middle;\n",
       "    }\n",
       "\n",
       "    .dataframe tbody tr th {\n",
       "        vertical-align: top;\n",
       "    }\n",
       "\n",
       "    .dataframe thead th {\n",
       "        text-align: right;\n",
       "    }\n",
       "</style>\n",
       "<table border=\"1\" class=\"dataframe\">\n",
       "  <thead>\n",
       "    <tr style=\"text-align: right;\">\n",
       "      <th></th>\n",
       "      <th>category_list</th>\n",
       "      <th>funding_total_usd</th>\n",
       "      <th>country_code</th>\n",
       "      <th>state_code</th>\n",
       "      <th>region</th>\n",
       "      <th>city</th>\n",
       "      <th>funding_rounds</th>\n",
       "      <th>first_funding_at</th>\n",
       "      <th>last_funding_at</th>\n",
       "      <th>lifetime</th>\n",
       "    </tr>\n",
       "    <tr>\n",
       "      <th>name</th>\n",
       "      <th></th>\n",
       "      <th></th>\n",
       "      <th></th>\n",
       "      <th></th>\n",
       "      <th></th>\n",
       "      <th></th>\n",
       "      <th></th>\n",
       "      <th></th>\n",
       "      <th></th>\n",
       "      <th></th>\n",
       "    </tr>\n",
       "  </thead>\n",
       "  <tbody>\n",
       "    <tr>\n",
       "      <th>Crystalsol</th>\n",
       "      <td>Clean Technology</td>\n",
       "      <td>2819200.0</td>\n",
       "      <td>NIC</td>\n",
       "      <td>17</td>\n",
       "      <td>NaN</td>\n",
       "      <td>NaN</td>\n",
       "      <td>1</td>\n",
       "      <td>2009-07-01</td>\n",
       "      <td>2009-07-01</td>\n",
       "      <td>3501</td>\n",
       "    </tr>\n",
       "    <tr>\n",
       "      <th>JBI Fish &amp; Wings</th>\n",
       "      <td>Hospitality</td>\n",
       "      <td>NaN</td>\n",
       "      <td>USA</td>\n",
       "      <td>TN</td>\n",
       "      <td>TN - Other</td>\n",
       "      <td>Humboldt</td>\n",
       "      <td>1</td>\n",
       "      <td>2010-07-28</td>\n",
       "      <td>2010-07-28</td>\n",
       "      <td>2717</td>\n",
       "    </tr>\n",
       "    <tr>\n",
       "      <th>COINPLUS</th>\n",
       "      <td>Finance</td>\n",
       "      <td>428257.0</td>\n",
       "      <td>LUX</td>\n",
       "      <td>3</td>\n",
       "      <td>Esch-sur-alzette</td>\n",
       "      <td>Esch-sur-alzette</td>\n",
       "      <td>2</td>\n",
       "      <td>2014-05-15</td>\n",
       "      <td>2014-09-18</td>\n",
       "      <td>1295</td>\n",
       "    </tr>\n",
       "    <tr>\n",
       "      <th>Imagine Communications</th>\n",
       "      <td>Software|Video|Video Streaming</td>\n",
       "      <td>34700000.0</td>\n",
       "      <td>USA</td>\n",
       "      <td>CA</td>\n",
       "      <td>San Diego</td>\n",
       "      <td>San Diego</td>\n",
       "      <td>4</td>\n",
       "      <td>2005-01-01</td>\n",
       "      <td>2010-04-20</td>\n",
       "      <td>4748</td>\n",
       "    </tr>\n",
       "    <tr>\n",
       "      <th>DNA13</th>\n",
       "      <td>Software</td>\n",
       "      <td>4530000.0</td>\n",
       "      <td>CAN</td>\n",
       "      <td>ON</td>\n",
       "      <td>Ottawa</td>\n",
       "      <td>Ottawa</td>\n",
       "      <td>1</td>\n",
       "      <td>2007-05-08</td>\n",
       "      <td>2007-05-08</td>\n",
       "      <td>6209</td>\n",
       "    </tr>\n",
       "  </tbody>\n",
       "</table>\n",
       "</div>"
      ],
      "text/plain": [
       "                                         category_list  funding_total_usd  \\\n",
       "name                                                                        \n",
       "Crystalsol                            Clean Technology          2819200.0   \n",
       "JBI Fish & Wings                           Hospitality                NaN   \n",
       "COINPLUS                                       Finance           428257.0   \n",
       "Imagine Communications  Software|Video|Video Streaming         34700000.0   \n",
       "DNA13                                         Software          4530000.0   \n",
       "\n",
       "                       country_code state_code            region  \\\n",
       "name                                                               \n",
       "Crystalsol                      NIC         17               NaN   \n",
       "JBI Fish & Wings                USA         TN        TN - Other   \n",
       "COINPLUS                        LUX          3  Esch-sur-alzette   \n",
       "Imagine Communications          USA         CA         San Diego   \n",
       "DNA13                           CAN         ON            Ottawa   \n",
       "\n",
       "                                    city  funding_rounds first_funding_at  \\\n",
       "name                                                                        \n",
       "Crystalsol                           NaN               1       2009-07-01   \n",
       "JBI Fish & Wings                Humboldt               1       2010-07-28   \n",
       "COINPLUS                Esch-sur-alzette               2       2014-05-15   \n",
       "Imagine Communications         San Diego               4       2005-01-01   \n",
       "DNA13                             Ottawa               1       2007-05-08   \n",
       "\n",
       "                       last_funding_at  lifetime  \n",
       "name                                              \n",
       "Crystalsol                  2009-07-01      3501  \n",
       "JBI Fish & Wings            2010-07-28      2717  \n",
       "COINPLUS                    2014-09-18      1295  \n",
       "Imagine Communications      2010-04-20      4748  \n",
       "DNA13                       2007-05-08      6209  "
      ]
     },
     "execution_count": 4,
     "metadata": {},
     "output_type": "execute_result"
    }
   ],
   "source": [
    "# Загружаем тестовую выборку\n",
    "startups_test = pd.read_csv(\n",
    "    'datasets/kaggle_startups_test_28062024.csv'\n",
    ")\n",
    "# Просматриваем первичную информацию о датасете\n",
    "startups_test.info()\n",
    "startups_test = (\n",
    "    startups_test.set_index('name')\n",
    ")\n",
    "# Просматриваем первые 5 строк датасета\n",
    "startups_test.head()"
   ]
  },
  {
   "cell_type": "code",
   "execution_count": 5,
   "id": "f3b54daa",
   "metadata": {},
   "outputs": [
    {
     "name": "stdout",
     "output_type": "stream",
     "text": [
      "<class 'pandas.core.frame.DataFrame'>\n",
      "RangeIndex: 13125 entries, 0 to 13124\n",
      "Data columns (total 2 columns):\n",
      " #   Column  Non-Null Count  Dtype \n",
      "---  ------  --------------  ----- \n",
      " 0   name    13125 non-null  object\n",
      " 1   status  13125 non-null  object\n",
      "dtypes: object(2)\n",
      "memory usage: 205.2+ KB\n"
     ]
    },
    {
     "data": {
      "text/html": [
       "<div>\n",
       "<style scoped>\n",
       "    .dataframe tbody tr th:only-of-type {\n",
       "        vertical-align: middle;\n",
       "    }\n",
       "\n",
       "    .dataframe tbody tr th {\n",
       "        vertical-align: top;\n",
       "    }\n",
       "\n",
       "    .dataframe thead th {\n",
       "        text-align: right;\n",
       "    }\n",
       "</style>\n",
       "<table border=\"1\" class=\"dataframe\">\n",
       "  <thead>\n",
       "    <tr style=\"text-align: right;\">\n",
       "      <th></th>\n",
       "      <th>status</th>\n",
       "    </tr>\n",
       "    <tr>\n",
       "      <th>name</th>\n",
       "      <th></th>\n",
       "    </tr>\n",
       "  </thead>\n",
       "  <tbody>\n",
       "    <tr>\n",
       "      <th>Crystalsol</th>\n",
       "      <td>closed</td>\n",
       "    </tr>\n",
       "    <tr>\n",
       "      <th>JBI Fish &amp; Wings</th>\n",
       "      <td>operating</td>\n",
       "    </tr>\n",
       "    <tr>\n",
       "      <th>COINPLUS</th>\n",
       "      <td>closed</td>\n",
       "    </tr>\n",
       "    <tr>\n",
       "      <th>Imagine Communications</th>\n",
       "      <td>closed</td>\n",
       "    </tr>\n",
       "    <tr>\n",
       "      <th>DNA13</th>\n",
       "      <td>operating</td>\n",
       "    </tr>\n",
       "  </tbody>\n",
       "</table>\n",
       "</div>"
      ],
      "text/plain": [
       "                           status\n",
       "name                             \n",
       "Crystalsol                 closed\n",
       "JBI Fish & Wings        operating\n",
       "COINPLUS                   closed\n",
       "Imagine Communications     closed\n",
       "DNA13                   operating"
      ]
     },
     "execution_count": 5,
     "metadata": {},
     "output_type": "execute_result"
    }
   ],
   "source": [
    "# Загружаем информацию о статусе стартапа\n",
    "startups_status = pd.read_csv(\n",
    "    'datasets/kaggle_startups_sample_submit_28062024.csv'\n",
    ")\n",
    "# Просматриваем первичную информацию о датасете\n",
    "startups_status.info()\n",
    "startups_status = (\n",
    "    startups_status.set_index('name')\n",
    ")\n",
    "# Просматриваем первые 5 строк датасета\n",
    "startups_status.head()"
   ]
  },
  {
   "cell_type": "markdown",
   "id": "ac2920d8",
   "metadata": {},
   "source": [
    "**Промежуточный вывод:** \n",
    "* Судя по первичной информации о датасетах  - имеются пропуски в тренировочных данных и во входных данных тестовой выборки.    \n",
    "* Наименования столбцов  соответствуют змеинному регистру  \n",
    "* Все колонки 'name' установлены как индексы, чтобы не влиять на корреляцию и моделирование\n",
    "* Все типы колонок соответствуют их содержимому"
   ]
  },
  {
   "cell_type": "markdown",
   "id": "53a26434",
   "metadata": {},
   "source": [
    "<a id='preprocessing'></a>\n",
    "## [Предобработка данных](#start)"
   ]
  },
  {
   "cell_type": "code",
   "execution_count": 6,
   "id": "f27ad16d",
   "metadata": {},
   "outputs": [
    {
     "name": "stdout",
     "output_type": "stream",
     "text": [
      "Явных дубликатов в \"startups_train\" - 1\n"
     ]
    }
   ],
   "source": [
    "# Проверим датасет 'startups_train' на наличие явных дубликатов\n",
    "print(\n",
    "    'Явных дубликатов в \"startups_train\" -',\n",
    "    startups_train.duplicated().sum()\n",
    ")"
   ]
  },
  {
   "cell_type": "code",
   "execution_count": 7,
   "id": "588b151d",
   "metadata": {},
   "outputs": [
    {
     "name": "stdout",
     "output_type": "stream",
     "text": [
      "Это составляет - 0.008 процентов от всего датасета\n"
     ]
    }
   ],
   "source": [
    "print(\n",
    "    'Это составляет -',\n",
    "    round(\n",
    "        startups_train.duplicated().sum()\n",
    "        / startups_train['category_list'].count() * 100, 3),\n",
    "    'процентов от всего датасета'\n",
    ")"
   ]
  },
  {
   "cell_type": "code",
   "execution_count": 8,
   "id": "bdd376dd",
   "metadata": {},
   "outputs": [
    {
     "data": {
      "text/html": [
       "<div>\n",
       "<style scoped>\n",
       "    .dataframe tbody tr th:only-of-type {\n",
       "        vertical-align: middle;\n",
       "    }\n",
       "\n",
       "    .dataframe tbody tr th {\n",
       "        vertical-align: top;\n",
       "    }\n",
       "\n",
       "    .dataframe thead th {\n",
       "        text-align: right;\n",
       "    }\n",
       "</style>\n",
       "<table border=\"1\" class=\"dataframe\">\n",
       "  <thead>\n",
       "    <tr style=\"text-align: right;\">\n",
       "      <th></th>\n",
       "      <th>category_list</th>\n",
       "      <th>funding_total_usd</th>\n",
       "      <th>country_code</th>\n",
       "      <th>state_code</th>\n",
       "      <th>region</th>\n",
       "      <th>city</th>\n",
       "      <th>funding_rounds</th>\n",
       "      <th>first_funding_at</th>\n",
       "      <th>last_funding_at</th>\n",
       "      <th>lifetime</th>\n",
       "    </tr>\n",
       "    <tr>\n",
       "      <th>name</th>\n",
       "      <th></th>\n",
       "      <th></th>\n",
       "      <th></th>\n",
       "      <th></th>\n",
       "      <th></th>\n",
       "      <th></th>\n",
       "      <th></th>\n",
       "      <th></th>\n",
       "      <th></th>\n",
       "      <th></th>\n",
       "    </tr>\n",
       "  </thead>\n",
       "  <tbody>\n",
       "    <tr>\n",
       "      <th>Continuum Care</th>\n",
       "      <td>NaN</td>\n",
       "      <td>NaN</td>\n",
       "      <td>NaN</td>\n",
       "      <td>NaN</td>\n",
       "      <td>NaN</td>\n",
       "      <td>NaN</td>\n",
       "      <td>1</td>\n",
       "      <td>2011-01-01</td>\n",
       "      <td>2011-01-01</td>\n",
       "      <td>1077</td>\n",
       "    </tr>\n",
       "  </tbody>\n",
       "</table>\n",
       "</div>"
      ],
      "text/plain": [
       "               category_list  funding_total_usd country_code state_code  \\\n",
       "name                                                                      \n",
       "Continuum Care           NaN                NaN          NaN        NaN   \n",
       "\n",
       "               region city  funding_rounds first_funding_at last_funding_at  \\\n",
       "name                                                                          \n",
       "Continuum Care    NaN  NaN               1       2011-01-01      2011-01-01   \n",
       "\n",
       "                lifetime  \n",
       "name                      \n",
       "Continuum Care      1077  "
      ]
     },
     "execution_count": 8,
     "metadata": {},
     "output_type": "execute_result"
    }
   ],
   "source": [
    "# Смотрим информацию об имеющемся дубликате\n",
    "startups_train.loc[startups_train.duplicated()]"
   ]
  },
  {
   "cell_type": "code",
   "execution_count": 9,
   "id": "55250c2b",
   "metadata": {},
   "outputs": [
    {
     "name": "stdout",
     "output_type": "stream",
     "text": [
      "Явных дубликатов в \"startups_train\" - 0\n"
     ]
    }
   ],
   "source": [
    "# Удаляем дубликаты в тренировочных данных\n",
    "startups_train = startups_train.drop_duplicates()\n",
    "# Проверим датасет 'startups_train' на наличие явных дубликатов\n",
    "print(\n",
    "    'Явных дубликатов в \"startups_train\" -',\n",
    "    startups_train.duplicated().sum()\n",
    ")"
   ]
  },
  {
   "cell_type": "code",
   "execution_count": 10,
   "id": "ff80f3a8",
   "metadata": {},
   "outputs": [
    {
     "name": "stdout",
     "output_type": "stream",
     "text": [
      "Явных дубликатов в \"startups_test\" - 1\n"
     ]
    }
   ],
   "source": [
    "# Проверим датасет 'startups_test' на наличие явных дубликатов\n",
    "print(\n",
    "    'Явных дубликатов в \"startups_test\" -',\n",
    "    startups_test.duplicated().sum()\n",
    ")"
   ]
  },
  {
   "cell_type": "code",
   "execution_count": 11,
   "id": "45f52267",
   "metadata": {},
   "outputs": [
    {
     "data": {
      "text/html": [
       "<div>\n",
       "<style scoped>\n",
       "    .dataframe tbody tr th:only-of-type {\n",
       "        vertical-align: middle;\n",
       "    }\n",
       "\n",
       "    .dataframe tbody tr th {\n",
       "        vertical-align: top;\n",
       "    }\n",
       "\n",
       "    .dataframe thead th {\n",
       "        text-align: right;\n",
       "    }\n",
       "</style>\n",
       "<table border=\"1\" class=\"dataframe\">\n",
       "  <thead>\n",
       "    <tr style=\"text-align: right;\">\n",
       "      <th></th>\n",
       "      <th>category_list</th>\n",
       "      <th>funding_total_usd</th>\n",
       "      <th>country_code</th>\n",
       "      <th>state_code</th>\n",
       "      <th>region</th>\n",
       "      <th>city</th>\n",
       "      <th>funding_rounds</th>\n",
       "      <th>first_funding_at</th>\n",
       "      <th>last_funding_at</th>\n",
       "      <th>lifetime</th>\n",
       "    </tr>\n",
       "    <tr>\n",
       "      <th>name</th>\n",
       "      <th></th>\n",
       "      <th></th>\n",
       "      <th></th>\n",
       "      <th></th>\n",
       "      <th></th>\n",
       "      <th></th>\n",
       "      <th></th>\n",
       "      <th></th>\n",
       "      <th></th>\n",
       "      <th></th>\n",
       "    </tr>\n",
       "  </thead>\n",
       "  <tbody>\n",
       "    <tr>\n",
       "      <th>Continuum Care</th>\n",
       "      <td>NaN</td>\n",
       "      <td>NaN</td>\n",
       "      <td>NaN</td>\n",
       "      <td>NaN</td>\n",
       "      <td>NaN</td>\n",
       "      <td>NaN</td>\n",
       "      <td>1</td>\n",
       "      <td>2011-01-01</td>\n",
       "      <td>2011-01-01</td>\n",
       "      <td>1077</td>\n",
       "    </tr>\n",
       "  </tbody>\n",
       "</table>\n",
       "</div>"
      ],
      "text/plain": [
       "               category_list  funding_total_usd country_code state_code  \\\n",
       "name                                                                      \n",
       "Continuum Care           NaN                NaN          NaN        NaN   \n",
       "\n",
       "               region city  funding_rounds first_funding_at last_funding_at  \\\n",
       "name                                                                          \n",
       "Continuum Care    NaN  NaN               1       2011-01-01      2011-01-01   \n",
       "\n",
       "                lifetime  \n",
       "name                      \n",
       "Continuum Care      1077  "
      ]
     },
     "execution_count": 11,
     "metadata": {},
     "output_type": "execute_result"
    }
   ],
   "source": [
    "# Смотрим информацию об имеющемся дубликате\n",
    "startups_test.loc[startups_test.duplicated()]"
   ]
  },
  {
   "cell_type": "code",
   "execution_count": 12,
   "id": "5815c8b1",
   "metadata": {},
   "outputs": [
    {
     "name": "stdout",
     "output_type": "stream",
     "text": [
      "Это составляет - 0.008 процентов от всего датасета\n"
     ]
    }
   ],
   "source": [
    "print(\n",
    "    'Это составляет -',\n",
    "    round(\n",
    "        startups_test.duplicated().sum()\n",
    "        / startups_test['category_list'].count() * 100, 3),\n",
    "    'процентов от всего датасета'\n",
    ")"
   ]
  },
  {
   "cell_type": "markdown",
   "id": "da6a943f",
   "metadata": {},
   "source": [
    "**Не рекомендуется удалять дубликаты в тестовых данных.**"
   ]
  },
  {
   "cell_type": "markdown",
   "id": "00cc60a9",
   "metadata": {},
   "source": [
    "**Промежуточный вывод:** \n",
    "* Датасеты проверены на наличие явных дубликатов. Явные дубликаты удалены из датасета с тренировочными данными и оставлены в датасете с тестовыми данными\n",
    "* Обнаруженные пропуски и неизвестные значения будут заменены в пайплайне при моделировании"
   ]
  },
  {
   "cell_type": "markdown",
   "id": "946d8f27",
   "metadata": {},
   "source": [
    "<a id='research'></a>\n",
    "## [Исследовательский анализ данных](#start)"
   ]
  },
  {
   "cell_type": "code",
   "execution_count": 21,
   "id": "e176fc37",
   "metadata": {},
   "outputs": [
    {
     "data": {
      "text/plain": [
       "['category_list',\n",
       " 'country_code',\n",
       " 'state_code',\n",
       " 'region',\n",
       " 'city',\n",
       " 'first_funding_at',\n",
       " 'last_funding_at']"
      ]
     },
     "execution_count": 21,
     "metadata": {},
     "output_type": "execute_result"
    }
   ],
   "source": [
    "# Создаем список категориальных признаков\n",
    "cat_col_names = (\n",
    "    startups_train\n",
    "    .select_dtypes(exclude='number')\n",
    "    .columns.tolist()\n",
    ")\n",
    "# Смотрим список\n",
    "cat_col_names"
   ]
  },
  {
   "cell_type": "code",
   "execution_count": 22,
   "id": "819c5a5c",
   "metadata": {},
   "outputs": [
    {
     "data": {
      "text/plain": [
       "['funding_total_usd', 'funding_rounds', 'lifetime']"
      ]
     },
     "execution_count": 22,
     "metadata": {},
     "output_type": "execute_result"
    }
   ],
   "source": [
    "# Создаем список количественных признаков\n",
    "num_col_names = (\n",
    "    startups_train\n",
    "    .select_dtypes(include='number')\n",
    "    .columns.tolist()\n",
    ")\n",
    "# Смотрим список\n",
    "num_col_names"
   ]
  },
  {
   "cell_type": "code",
   "execution_count": null,
   "id": "7855d1a4",
   "metadata": {},
   "outputs": [],
   "source": []
  }
 ],
 "metadata": {
  "kernelspec": {
   "display_name": "Python 3 (ipykernel)",
   "language": "python",
   "name": "python3"
  },
  "language_info": {
   "codemirror_mode": {
    "name": "ipython",
    "version": 3
   },
   "file_extension": ".py",
   "mimetype": "text/x-python",
   "name": "python",
   "nbconvert_exporter": "python",
   "pygments_lexer": "ipython3",
   "version": "3.9.18"
  }
 },
 "nbformat": 4,
 "nbformat_minor": 5
}
