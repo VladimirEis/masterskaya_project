{
 "cells": [
  {
   "cell_type": "markdown",
   "id": "fddfe0ab",
   "metadata": {},
   "source": [
    "<a id='start'></a>\n",
    "# Проект Мастерская №1"
   ]
  },
  {
   "cell_type": "markdown",
   "id": "5fe32720",
   "metadata": {},
   "source": [
    "## Цель проекта\n",
    "Отработать навыки работы с реальными данными.  \n",
    "В качестве примера приведены данные о стартапах, функционировавших с 1980 по 2018 годы.  \n",
    "Необходимо разработать модель машинного обучения при предсказания продолжения работы стартапа.  \n",
    "Провести все необхрдимые работы с исходными датасетами и дать рекомендации создателям стартапов."
   ]
  },
  {
   "cell_type": "markdown",
   "id": "9a164793",
   "metadata": {},
   "source": [
    "### Задачи для 1 части проекта:\n",
    "* [Изучить и подготовить данные](#download)\n",
    "* [Провести предобработку данных](#preprocessing)\n",
    "* [Провести исследователький анализ данных](#research)\n",
    "* [Провести корреляционный анализ данных](#corr)"
   ]
  },
  {
   "cell_type": "code",
   "execution_count": null,
   "id": "c2ac24e0",
   "metadata": {},
   "outputs": [],
   "source": []
  }
 ],
 "metadata": {
  "kernelspec": {
   "display_name": "Python 3 (ipykernel)",
   "language": "python",
   "name": "python3"
  },
  "language_info": {
   "codemirror_mode": {
    "name": "ipython",
    "version": 3
   },
   "file_extension": ".py",
   "mimetype": "text/x-python",
   "name": "python",
   "nbconvert_exporter": "python",
   "pygments_lexer": "ipython3",
   "version": "3.9.18"
  }
 },
 "nbformat": 4,
 "nbformat_minor": 5
}
